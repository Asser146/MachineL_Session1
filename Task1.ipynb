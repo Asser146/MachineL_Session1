{
 "cells": [
  {
   "cell_type": "code",
   "execution_count": 27,
   "id": "751dd485",
   "metadata": {},
   "outputs": [],
   "source": [
    "#importing libraries\n",
    "import numpy as np\n",
    "from sklearn.model_selection import train_test_split\n",
    "from sklearn import tree\n",
    "from sklearn.metrics import accuracy_score\n",
    "from scipy.io import loadmat\n",
    "from sklearn.neighbors import KNeighborsClassifier"
   ]
  },
  {
   "cell_type": "code",
   "execution_count": 13,
   "id": "20aa84a0",
   "metadata": {},
   "outputs": [],
   "source": [
    "#loading matlab data and converting it to numpy array\n",
    "temp = loadmat('train.mat')\n",
    "train=temp['label']\n",
    "train=np.array(train)\n",
    "\n",
    "temp = loadmat('val.mat')\n",
    "val=temp['label']\n",
    "val=np.array(val)\n",
    "\n",
    "temp = loadmat('test.mat')\n",
    "test=temp['label']\n",
    "test=np.array(test)"
   ]
  },
  {
   "cell_type": "code",
   "execution_count": 14,
   "id": "4bd2f77f",
   "metadata": {},
   "outputs": [
    {
     "name": "stdout",
     "output_type": "stream",
     "text": [
      "(1, 1077)\n",
      "(1, 360)\n",
      "(1, 360)\n"
     ]
    }
   ],
   "source": [
    "print(train.shape)\n",
    "print(val.shape)\n",
    "print(test.shape)"
   ]
  },
  {
   "cell_type": "code",
   "execution_count": 15,
   "id": "b88a407a",
   "metadata": {},
   "outputs": [
    {
     "name": "stdout",
     "output_type": "stream",
     "text": [
      "(359, 3)\n",
      "(120, 3)\n",
      "(120, 3)\n"
     ]
    }
   ],
   "source": [
    "#Reshapping the array\n",
    "train=train.reshape(359,3)\n",
    "val=val.reshape(120,3)\n",
    "test=test.reshape(120,3)\n",
    "print(train.shape)\n",
    "print(val.shape)\n",
    "print(test.shape)"
   ]
  },
  {
   "cell_type": "code",
   "execution_count": 25,
   "id": "50be6867",
   "metadata": {},
   "outputs": [
    {
     "name": "stdout",
     "output_type": "stream",
     "text": [
      "validation accuarcy: 0.08333333333333333\n",
      "testing accuarcy: 0.125\n"
     ]
    }
   ],
   "source": [
    "# building and training Tree model\n",
    "clf = tree.DecisionTreeClassifier(max_depth=1,random_state=43)\n",
    "#Best max depth is 1\n",
    "clf = clf.fit(train[:,:-1], train[:,-1])\n",
    "\n",
    "# validation\n",
    "y_pred = clf.predict(val[:,:-1])\n",
    "print(\"validation accuarcy:\",accuracy_score(val[:,-1], y_pred))\n",
    "\n",
    "# testing\n",
    "y_pred = clf.predict(test[:,:-1])\n",
    "print(\"testing accuarcy:\",accuracy_score(test[:,-1], y_pred))"
   ]
  },
  {
   "cell_type": "code",
   "execution_count": 36,
   "id": "ab6cd791",
   "metadata": {},
   "outputs": [],
   "source": [
    "clf = KNeighborsClassifier(n_neighbors=4)\n",
    "clf = clf.fit(train[:,:-1], train[:,-1])\n",
    "y_pred = clf.predict(val[:,:-1])"
   ]
  },
  {
   "cell_type": "code",
   "execution_count": 37,
   "id": "0dab90e3",
   "metadata": {},
   "outputs": [
    {
     "name": "stdout",
     "output_type": "stream",
     "text": [
      "validation accuarcy: 0.075\n",
      "testing accuarcy: 0.09166666666666666\n"
     ]
    }
   ],
   "source": [
    "# validation\n",
    "y_pred = clf.predict(val[:,:-1])\n",
    "print(\"validation accuarcy:\",accuracy_score(val[:,-1], y_pred))\n",
    "\n",
    "# testing\n",
    "y_pred = clf.predict(test[:,:-1])\n",
    "print(\"testing accuarcy:\",accuracy_score(test[:,-1], y_pred))"
   ]
  },
  {
   "cell_type": "code",
   "execution_count": 38,
   "id": "c74b7a76",
   "metadata": {},
   "outputs": [],
   "source": [
    "#Tree Module is better"
   ]
  },
  {
   "cell_type": "code",
   "execution_count": null,
   "id": "0c9e686a",
   "metadata": {},
   "outputs": [],
   "source": []
  }
 ],
 "metadata": {
  "kernelspec": {
   "display_name": "Python 3 (ipykernel)",
   "language": "python",
   "name": "python3"
  },
  "language_info": {
   "codemirror_mode": {
    "name": "ipython",
    "version": 3
   },
   "file_extension": ".py",
   "mimetype": "text/x-python",
   "name": "python",
   "nbconvert_exporter": "python",
   "pygments_lexer": "ipython3",
   "version": "3.9.10"
  }
 },
 "nbformat": 4,
 "nbformat_minor": 5
}
